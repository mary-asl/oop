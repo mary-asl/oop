{
  "nbformat": 4,
  "nbformat_minor": 0,
  "metadata": {
    "colab": {
      "name": "HW Kazakova M",
      "provenance": [],
      "collapsed_sections": []
    },
    "kernelspec": {
      "name": "python3",
      "display_name": "Python 3"
    },
    "language_info": {
      "name": "python"
    }
  },
  "cells": [
    {
      "cell_type": "code",
      "source": [
        "import csv\n",
        "import os"
      ],
      "metadata": {
        "id": "cvSxRfBnm5wT"
      },
      "execution_count": 1,
      "outputs": []
    },
    {
      "cell_type": "code",
      "source": [
        "class CarBase:\n",
        "    def __init__(self, brand, photo_file_name, carrying):\n",
        "        self.brand = brand\n",
        "        self.photo_file_name = photo_file_name\n",
        "        self.carrying = float(carrying)\n",
        "\n",
        "    def get_photo_file_ext(self):\n",
        "        filename, file_extension = os.path.splitext(self.photo_file_name)\n",
        "        return file_extension"
      ],
      "metadata": {
        "id": "345HGdnLm8og"
      },
      "execution_count": 2,
      "outputs": []
    },
    {
      "cell_type": "code",
      "source": [
        "class Car(CarBase):\n",
        "    def __init__(self, brand, photo_file_name, carrying, passenger_seats_count, car_type = ''):\n",
        "        super().__init__(brand, photo_file_name, carrying)\n",
        "        self.passenger_seat_count = int(passenger_seats_count)\n",
        "        self.car_type = 'car'\n",
        "        \n",
        "    def __repr__(self):\n",
        "        return f\"Машина:\\n{self.brand}\\n{self.passenger_seat_count}\\n{self.photo_file_name}\\n{self.carrying}\"\n"
      ],
      "metadata": {
        "id": "uIBuhmuzm-1A"
      },
      "execution_count": 3,
      "outputs": []
    },
    {
      "cell_type": "code",
      "source": [
        "class Truck(CarBase):\n",
        "    def __init__(self, brand, photo_file_name, carrying, body_whl, car_type = ''):\n",
        "        super().__init__(brand, photo_file_name, carrying)\n",
        "        self._body_whl = body_whl.split('x')\n",
        "        self.car_type = 'truck'\n",
        "        if body_whl != '':\n",
        "            self.body_length = float(self._body_whl[0])\n",
        "            self.body_width = float(self._body_whl[1])\n",
        "            self.body_height = float(self._body_whl[2])\n",
        "        else:\n",
        "            self.body_length = 0\n",
        "            self.body_width = 0\n",
        "            self.body_height = 0\n",
        "\n",
        "    def get_body_volume(self):\n",
        "        return self.body_height * self.body_length * self.body_width\n",
        "\n",
        "    def __repr__(self):\n",
        "        return f\"Грузовик:\\n {self.brand}\\n{self.photo_file_name}\\n{self.carrying}\\n{self._body_whl}\"\n"
      ],
      "metadata": {
        "id": "9kbgxDkjnHtM"
      },
      "execution_count": 4,
      "outputs": []
    },
    {
      "cell_type": "code",
      "source": [
        "class SpecMachine(CarBase):\n",
        "    def __init__(self, brand, photo_file_name, carrying, extra, car_type = ''):\n",
        "        super().__init__(brand, photo_file_name, carrying)\n",
        "        self.extra = extra\n",
        "        self.car_type = 'spec_machine'\n",
        "\n",
        "    def __repr__(self):\n",
        "        return f\"СпецМашина:\\n {self.brand}\\n{self.photo_file_name}\\n{self.carrying}\\n{self.extra}\""
      ],
      "metadata": {
        "id": "yv-Al16XnKWY"
      },
      "execution_count": 5,
      "outputs": []
    },
    {
      "cell_type": "code",
      "source": [
        "def get_car_list(csv_filename):\n",
        "    car_list = []\n",
        "    with open(csv_filename, encoding=\"utf-8\") as csv_fd:\n",
        "        reader = csv.reader(csv_fd, delimiter=';')\n",
        "        next(reader)\n",
        "        for row in reader:\n",
        "            try:\n",
        "                if row[0] == 'car':\n",
        "                    car = Car(row[1], row[3], row[5], row[2])\n",
        "                    car_list.append(car)\n",
        "                elif row[0] == 'truck':\n",
        "                    truck = Truck(row[1], row[3], row[5], row[4])\n",
        "                    car_list.append(truck)\n",
        "                elif row[0] == 'spec_machine':\n",
        "                    spec_machine = SpecMachine(row[1], row[3], row[5], row[6])\n",
        "                    car_list.append(spec_machine)\n",
        "            except IndexError:\n",
        "                pass\n",
        "\n",
        "    return car_list\n",
        "\n",
        "print(get_car_list('cars.csv'))"
      ],
      "metadata": {
        "colab": {
          "base_uri": "https://localhost:8080/"
        },
        "id": "6FNBndvxnMma",
        "outputId": "4b9482e4-af04-4f10-986e-5e28c55d9742"
      },
      "execution_count": 7,
      "outputs": [
        {
          "output_type": "stream",
          "name": "stdout",
          "text": [
            "[Машина:\n",
            "NissanxTtrail\n",
            "4\n",
            "f1.jpeg\n",
            "2.5, Грузовик:\n",
            " Man\n",
            "f2.png\n",
            "20.0\n",
            "['8', '3', '2.5'], Грузовик:\n",
            " Man\n",
            "f2.png\n",
            "20.0\n",
            "[''], Машина:\n",
            "Mazda 6\n",
            "4\n",
            "f3.jpeg\n",
            "2.5, СпецМашина:\n",
            " Hitachi\n",
            "f4\n",
            "1.2\n",
            "Легкая техника для уборки снега]\n"
          ]
        }
      ]
    },
    {
      "cell_type": "code",
      "source": [
        ""
      ],
      "metadata": {
        "id": "BCMzzmkbnBM5"
      },
      "execution_count": null,
      "outputs": []
    }
  ]
}